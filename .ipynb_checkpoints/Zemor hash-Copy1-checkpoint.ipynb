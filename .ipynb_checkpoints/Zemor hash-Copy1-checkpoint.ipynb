{
 "cells": [
  {
   "cell_type": "code",
   "execution_count": 2,
   "id": "8b6b0a33-6c62-4522-aaef-fd5a143b87b5",
   "metadata": {},
   "outputs": [],
   "source": [
    "from sage.all import *\n",
    "import time\n",
    "import random \n",
    "import matplotlib.pyplot as plt\n",
    "import numpy as np\n",
    "import sympy\n",
    "from sympy import primerange, nextprime"
   ]
  },
  {
   "cell_type": "code",
   "execution_count": 58,
   "id": "f163f3db-7863-4b86-98a6-cfbba2bbfa58",
   "metadata": {},
   "outputs": [
    {
     "name": "stdout",
     "output_type": "stream",
     "text": [
      "14314008126409311636940187428523598482615739950213784158269381728551527625419\n"
     ]
    }
   ],
   "source": [
    "def random_SL2F_p(p,word_length):\n",
    "    R = IntegerModRing(p)\n",
    "    X = Matrix([[R(1), R(1)], [R(0), R(1)]])\n",
    "    Y = Matrix([[R(1), R(0)], [R(1), R(1)]])\n",
    "    M = Matrix([[R(1), R(0)], [R(0), R(1)]])\n",
    "    N = [[],[]]\n",
    "    for _ in range(word_length):\n",
    "        mat = random.choice([X, Y])\n",
    "        M = M * mat\n",
    "    N[0] = list(M[0])\n",
    "    N[1] = list(M[1])\n",
    "    return N\n",
    "\n",
    "def CheckEven(n):#偶数かどうかを判定。偶数だったらTrue\n",
    "    if n & 1 == 0:\n",
    "        return True\n",
    "    else:\n",
    "        return False\n",
    "\n",
    "def CheckPrime(n):#素数かどうか判定。素数だったらTrue\n",
    "    if n == 2: return True\n",
    "    if n <= 1 or CheckEven(n):return False\n",
    "\n",
    "    d = (n - 1) >> 1\n",
    "    while CheckEven(n):\n",
    "        d >>= 1\n",
    "\n",
    "    for i in range(100):\n",
    "        a = random.randint(1,n-1)\n",
    "        t = d\n",
    "        y = pow(a,t,n)\n",
    "\n",
    "        while t != n -1 and y != 1 and y != n - 1:\n",
    "            y = pow(y,2,n)\n",
    "            t <<= 1\n",
    "        \n",
    "        if y != n - 1 and CheckEven(t):\n",
    "            return False\n",
    "\n",
    "    return True\n",
    "\n",
    "\n",
    "def GetRandomPrime(max):#max未満のランダムな素数を返す。存在しない場合は-1を返す\n",
    "    if(max <= 1):return -1\n",
    "    \n",
    "    while(True):\n",
    "        rand = random.randint(2,max)\n",
    "        if(CheckEven(rand)):rand += 1\n",
    "        if(CheckPrime(rand)):break\n",
    "    \n",
    "    return rand\n",
    "\n",
    "def GetRandomPrimeSameMagnitude(n): #nと同じ桁のランダムな素数を返す。存在しない場合は-1を返す\n",
    "    if(n <= 1):return -1\n",
    "        \n",
    "    k = len(bin(n)) - 2 #kはnの2進桁数\n",
    "    while(True):\n",
    "        rand = random.randint(2**(k - 1),2**k)\n",
    "        if(CheckEven(rand)):rand += 1\n",
    "        if(CheckPrime(rand)):break\n",
    "    \n",
    "    return rand\n",
    "\n",
    "\n",
    "print(GetRandomPrime(2**256))"
   ]
  },
  {
   "cell_type": "code",
   "execution_count": 4,
   "id": "415f9230-de5a-4e45-a6d3-298cc0433e1f",
   "metadata": {},
   "outputs": [
    {
     "name": "stdout",
     "output_type": "stream",
     "text": [
      "1463645761286808854174140680909095550725116305308742411504953239310315755962 4363702587980066021824258175656839050073465968442721642176586486680619075561 100269093380655736463499204377801387918476608832040219428083446495689386310991\n"
     ]
    }
   ],
   "source": [
    "p = 66581209722551453593985390473308943703196134796357813243939566278615782966563\n",
    "while(True):\n",
    "    p_1 = GetRandomPrimeSameMagnitude(p)\n",
    "    c = random.randint(2,p_1)\n",
    "    R = IntegerModRing(p_1)\n",
    "    k = R(c) ** 2 * R(p) ** 2 + 4 * R(c)\n",
    "    if kronecker(int(k),p_1) == 1:\n",
    "        break\n",
    "print(k,c,p_1)"
   ]
  },
  {
   "cell_type": "code",
   "execution_count": 5,
   "id": "3cd1f239-e349-4176-9191-f36ccd108824",
   "metadata": {},
   "outputs": [
    {
     "data": {
      "text/plain": [
       "1"
      ]
     },
     "execution_count": 5,
     "metadata": {},
     "output_type": "execute_result"
    }
   ],
   "source": [
    "def Legendre(n,p): \n",
    "    if p == 2:\n",
    "        return True\n",
    "    n = n % p\n",
    "    k = list(bin(int((p - 1)/2))[2:])\n",
    "    l = 1\n",
    "    while(True):\n",
    "        if k[-1] == \"1\":\n",
    "            l = (l * n) % p\n",
    "            k[-1] = \"0\"\n",
    "        if k[-1] == \"0\":\n",
    "            n = (n ** 2) % p\n",
    "            del k[-1]\n",
    "        if len(k) == 1:\n",
    "            l = (l * n) % p\n",
    "            break\n",
    "    if l == 1: return 1\n",
    "    else: return -1\n",
    "\n",
    "Legendre(132685491577370824812191870474466979840791369529189486746965376814343438877113,163224041900145744191970993029056722186065388406656192214196400467815853979839)\n",
    "kronecker(132685491577370824812191870474466979840791369529189486746965376814343438877113,163224041900145744191970993029056722186065388406656192214196400467815853979839)"
   ]
  },
  {
   "cell_type": "code",
   "execution_count": 48,
   "id": "fe1445ac-03fd-4a03-84b8-674b2fd3d654",
   "metadata": {},
   "outputs": [
    {
     "name": "stdout",
     "output_type": "stream",
     "text": [
      "10035703102468406203\n"
     ]
    },
    {
     "data": {
      "text/plain": [
       "'not prime'"
      ]
     },
     "execution_count": 48,
     "metadata": {},
     "output_type": "execute_result"
    }
   ],
   "source": [
    "def LiftIndentity(p):\n",
    "    while(True):\n",
    "        if p <= 3:\n",
    "            return \"not prime\"\n",
    "        p_1 = GetRandomPrimeSameMagnitude(p)\n",
    "        c = random.randint(2,2**5)\n",
    "        R = IntegerModRing(p_1)\n",
    "        D = int((R(c)**2)*(R(p)**2) + 4*R(c))\n",
    "        if kronecker(int(D),p_1) == 1 and int(c*p + mod(D,p_1).sqrt()) % 2 == 0:\n",
    "            break\n",
    "\n",
    "    k_1 = int((c*p + mod(D, p_1).sqrt()))//2\n",
    "    k_2 = (c + c*p*k_1 - k_1**2)//p_1\n",
    "    k_3 = p_1\n",
    "    k_4 = c*p - k_1\n",
    "    return [[1+k_1*p,k_2*p],[k_3*p,1+k_4*p]]\n",
    "    \n",
    "p = GetRandomPrimeSameMagnitude(10000000000000000000)\n",
    "print(p)\n",
    "LiftIndentity(3)"
   ]
  },
  {
   "cell_type": "code",
   "execution_count": 108,
   "id": "5b76678f-925a-4b82-af93-17257b1714d0",
   "metadata": {},
   "outputs": [
    {
     "name": "stdout",
     "output_type": "stream",
     "text": [
      "inadequate\n"
     ]
    }
   ],
   "source": [
    "#Euclidの互除法を用いた攻撃方法\n",
    "def lift(p,M): #M \\in SL(2,F_p),pは素数\n",
    "    if type(M[0][0]) == str:\n",
    "        return \"inadequate\"\n",
    "    else:\n",
    "        for i in range(2):\n",
    "            for j in range(2):\n",
    "                M[i][j] = int(M[i][j])\n",
    "                \n",
    "    a, b, c, d = 0, 0, 0, 0\n",
    "    for i in range(2):\n",
    "        if gcd(M[i][i],M[0][1]) == 1:\n",
    "            a, b = M[i][i], M[0][1] \n",
    "            c, d = M[1 - i][1 - i], M[1][0]\n",
    "            j = 0\n",
    "            break\n",
    "        elif gcd(M[i][i],M[1][0]) == 1:\n",
    "            a, b = M[i][i], M[1][0]\n",
    "            c, d = M[1 - i][1 - i], M[0][1]\n",
    "            j = 1\n",
    "            break\n",
    "        if i == 1:\n",
    "            if M[0][1] != 0:\n",
    "                M[0][0] = M[0][0] + int(coprimalize(p,M[0][0],M[0][1]) * p)\n",
    "                return lift(p,M)\n",
    "            else:\n",
    "                M[0][1] = p\n",
    "                return lift(p,M)\n",
    "    k = int((M[0][0] * M[1][1] - M[0][1] * M[1][0] - 1) / p)\n",
    "    s, t = sympy.gcdex(int(a),-int(b))[0], sympy.gcdex(int(a),-int(b))[1]\n",
    "    s = s * (-k)\n",
    "    t = t * (-k)\n",
    "    c = int(c + s * p)\n",
    "    d = int(d + t * p) #Z上に持ち上げ完了\n",
    "    if b != 0 and a != 0:\n",
    "        l = min(c // (b * p), d // (a * p))\n",
    "    else: l = 0   \n",
    "    if l < 0:\n",
    "        c = c - l * b * p\n",
    "        d = d - l * a * p\n",
    "    M[1 - i][1 - i] = c\n",
    "    M[1 - j][j] = d\n",
    "    return M\n",
    "\n",
    "def decrypt_Euclid(M,que): #M[0][0]は0でない\n",
    "    if type(M[0][0]) == str:\n",
    "        return \"inadequate\"\n",
    "    else:\n",
    "        for i in range(2):\n",
    "            for j in range(2):\n",
    "                M[i][j] = int(M[i][j])\n",
    "    if M[1][0] == 0:\n",
    "        que.extend([\"X\"] * M[0][1])\n",
    "        return \"\".join(que)\n",
    "    if M[0][1] == 0:\n",
    "        que.extend([\"Y\"] * M[1][0])\n",
    "        return \"\".join(que)\n",
    "    if M[1][0] == 1:\n",
    "        q = M[0][0] // M[1][0]\n",
    "        M[0][0] = 1\n",
    "        M[0][1] = M[0][1] - (q - 1) * M[1][1]\n",
    "        que.extend([\"X\"] * (q - 1))\n",
    "        if M[0][1] == 0:\n",
    "            que.append(\"Y\")\n",
    "        else:\n",
    "            que.append(\"Y\")\n",
    "            que.extend([\"X\"] * (M[0][1]))\n",
    "        return \"\".join(que)\n",
    "        \n",
    "    if M[0][0] >= M[1][0]:\n",
    "        q = M[0][0] // M[1][0]\n",
    "        M[0][0] = M[0][0] - q * M[1][0]\n",
    "        M[0][1] = M[0][1] - q * M[1][1]\n",
    "        que.extend([\"X\"] * q)\n",
    "        return decrypt_Euclid(M,que)\n",
    "    if M[1][0] >= M[0][0]:\n",
    "        q = M[1][0] // M[0][0]\n",
    "        M[1][0] = M[1][0] - q * M[0][0]\n",
    "        M[1][1] = M[1][1] - q * M[0][1]\n",
    "        que.extend([\"Y\"] * q)\n",
    "        return decrypt_Euclid(M,que)\n",
    "\n",
    "def decrypt_brute_force_Zemor(p,M):\n",
    "    if p < 2:\n",
    "        return \"not prime\"\n",
    "    R = IntegerModRing(p)\n",
    "    X = Matrix([[R(1),R(1)],[R(0),R(1)]])\n",
    "    Y = Matrix([[R(1),R(0)],[R(1),R(1)]])\n",
    "    for i in range(2**1,2**256):\n",
    "        E = Matrix([[R(1),R(0)],[R(0),R(1)]])\n",
    "        binary = bin(i)[3:]\n",
    "        que = []\n",
    "        for j in range(len(binary)):\n",
    "            if binary[j] == \"1\":\n",
    "                E = E * X\n",
    "                que.append(\"X\")\n",
    "            else: \n",
    "                E = E * Y\n",
    "                que.append(\"Y\")\n",
    "        if E == M:\n",
    "            return \"\".join(que)\n",
    "    return \"intractable to factor\"\n",
    "\n",
    "print(decrypt_Euclid(LiftIndentity(3),[]))\n"
   ]
  },
  {
   "cell_type": "code",
   "execution_count": 53,
   "id": "e5a54e4c-6224-4d85-baa9-3367ee1a13f2",
   "metadata": {},
   "outputs": [
    {
     "data": {
      "image/png": "[encoded data removed]",
      "text/plain": [
       "<Figure size 640x480 with 1 Axes>"
      ]
     },
     "metadata": {},
     "output_type": "display_data"
    }
   ],
   "source": [
    "#Lifting Attackの計算量\n",
    "ExponentsList = list(range(100))\n",
    "time_list = []\n",
    "k = 100\n",
    "for i in ExponentsList:\n",
    "    x = 0\n",
    "    for _ in range(k):\n",
    "        p = GetRandomPrimeSameMagnitude(2**i)\n",
    "        \n",
    "        start = time.perf_counter()\n",
    "        M = LiftIndentity(p)\n",
    "        decrypt_Euclid(M,[])\n",
    "        end = time.perf_counter()\n",
    "        x = x + end - start\n",
    "    \n",
    "    time_list.append(x/k)\n",
    "\n",
    "plt.plot(ExponentsList, time_list, marker='o')\n",
    "plt.xlabel(\"\")\n",
    "plt.ylabel(\"\")\n",
    "plt.grid(True)\n",
    "plt.show()"
   ]
  },
  {
   "cell_type": "code",
   "execution_count": 13,
   "id": "b9c5b6d7-8fd9-4a7e-bf80-2160dcb52203",
   "metadata": {},
   "outputs": [
    {
     "data": {
      "image/png": "[encoded data removed]",
      "text/plain": [
       "<Figure size 640x480 with 1 Axes>"
      ]
     },
     "metadata": {},
     "output_type": "display_data"
    }
   ],
   "source": [
    "#総当たり攻撃の計算量\n",
    "\n",
    "PrimeList = [2,3,5,7,11,13,17]\n",
    "ExponentsList = list(range(5))\n",
    "time_list = []\n",
    "k = 1\n",
    "for p in PrimeList:\n",
    "    x = 0\n",
    "    for _ in range(k):        \n",
    "        start = time.perf_counter()\n",
    "        decrypt_brute_force_Zemor(p,Matrix([[1,0],[0,1]]))\n",
    "        end = time.perf_counter()\n",
    "        x = x + end - start\n",
    "    \n",
    "    time_list.append(x/k)\n",
    "\n",
    "plt.plot(PrimeList, time_list, marker='o')\n",
    "plt.xlabel(\"\")\n",
    "plt.ylabel(\"\")\n",
    "plt.grid(True)\n",
    "plt.show()\n"
   ]
  },
  {
   "cell_type": "code",
   "execution_count": 45,
   "id": "b0216c2e-713a-4135-a581-f6f531299692",
   "metadata": {},
   "outputs": [
    {
     "data": {
      "text/plain": [
       "'YYXYYXYYXXYXXYXX'"
      ]
     },
     "execution_count": 45,
     "metadata": {},
     "output_type": "execute_result"
    }
   ],
   "source": [
    "decrypt_brute_force_Zemor(17,Matrix([[1,0],[0,1]]))"
   ]
  },
  {
   "cell_type": "code",
   "execution_count": 23,
   "id": "049e3771-a561-40b1-90ca-8e360561a2e6",
   "metadata": {},
   "outputs": [
    {
     "name": "stdout",
     "output_type": "stream",
     "text": [
      "[[3, 17], [37, 210]]\n",
      "[[2208680191, 49890], [74282332227983, 1677900481]]\n",
      "[[349231, 49890], [349245, 49892]]\n",
      "[[30021, 9980], [414567031, 137816161]]\n"
     ]
    }
   ],
   "source": [
    "#a + kp = 1 (mod b)なるkを探索\n",
    "def coprimalize(p,a,b):\n",
    "    a = a % b\n",
    "    p = p % b\n",
    "    k = sympy.gcdex(int(p),-int(b))[0] % b\n",
    "    return int(k * (1 - (a % b))) % b\n",
    "\n",
    "\n",
    "#MをSL(2,Z+)にリフトする\n",
    "def lift(p,M): #M \\in SL(2,F_p),pは素数\n",
    "    a, b, c, d = 0, 0, 0, 0\n",
    "    for i in range(2):\n",
    "        if gcd(M[i][i],M[0][1]) == 1:\n",
    "            a, b = M[i][i], M[0][1] \n",
    "            c, d = M[1 - i][1 - i], M[1][0]\n",
    "            j = 0\n",
    "            break\n",
    "        elif gcd(M[i][i],M[1][0]) == 1:\n",
    "            a, b = M[i][i], M[1][0]\n",
    "            c, d = M[1 - i][1 - i], M[0][1]\n",
    "            j = 1\n",
    "            break\n",
    "        if i == 1:\n",
    "            if M[0][1] != 0:\n",
    "                M[0][0] = M[0][0] + int(coprimalize(p,M[0][0],M[0][1]) * p)\n",
    "                return lift(p,M)\n",
    "            else:\n",
    "                M[0][1] = p\n",
    "                return lift(p,M)\n",
    "    k = int((M[0][0] * M[1][1] - M[0][1] * M[1][0] - 1) / p)\n",
    "    s, t = sympy.gcdex(int(a),-int(b))[0], sympy.gcdex(int(a),-int(b))[1]\n",
    "    s = s * (-k)\n",
    "    t = t * (-k)\n",
    "    c = int(c + s * p)\n",
    "    d = int(d + t * p) #Z上に持ち上げ完了\n",
    "    if b != 0 and a != 0:\n",
    "        l = min(c // (b * p), d // (a * p))\n",
    "    else: l = 0   \n",
    "    if l < 0:\n",
    "        c = c - l * b * p\n",
    "        d = d - l * a * p\n",
    "    M[1 - i][1 - i] = c\n",
    "    M[1 - j][j] = d\n",
    "    return M\n",
    "print(lift(17,[[3,0],[3,6]]))\n",
    "print(lift(51749, [[32871, 49890], [47856, 42654]]))\n",
    "print(lift(11, [[32871, 49890], [47856, 42654]]))\n",
    "print(lift(51749,[[30021,9980],[5792,8574]]))\n"
   ]
  },
  {
   "cell_type": "code",
   "execution_count": 50,
   "id": "e625ec0c-b165-46ee-b73d-84e46e9bc8e3",
   "metadata": {},
   "outputs": [
    {
     "name": "stdout",
     "output_type": "stream",
     "text": [
      "生成された行列:\n",
      "[[1 3]\n",
      " [4 6]]\n"
     ]
    }
   ],
   "source": [
    "import numpy as np\n",
    "\n",
    "def random_SL(n, p, steps=100):\n",
    "    \"\"\"\n",
    "    n: 行列のサイズ\n",
    "    p: 素数（計算は mod p）\n",
    "    steps: 行の加算操作を行う回数（多くするほど多様な行列が得られます）\n",
    "    \"\"\"\n",
    "    # 単位行列を作成（mod p での演算のために整数型）\n",
    "    A = np.eye(n, dtype=int)\n",
    "    for _ in range(steps):\n",
    "        # 2つの異なる行 i, j をランダムに選ぶ\n",
    "        i, j = np.random.choice(n, 2, replace=False)\n",
    "        # 0 から p-1 の範囲でランダムな整数を選ぶ\n",
    "        a = np.random.randint(0, p)\n",
    "        # 行 i に行 j の a 倍を加える操作（mod p）\n",
    "        A[i, :] = (A[i, :] + a * A[j, :]) % p\n",
    "    return A\n",
    "\n",
    "# 例: 4×4の行列で p=7 の場合\n",
    "n = 2\n",
    "p = 7\n",
    "matrix = random_SL(n, p)\n",
    "print(\"生成された行列:\")\n",
    "print(matrix)\n"
   ]
  },
  {
   "cell_type": "code",
   "execution_count": 59,
   "id": "c21e69c8-2ec5-4f3d-a1b0-742b661972a3",
   "metadata": {},
   "outputs": [
    {
     "data": {
      "text/plain": [
       "[[312627114986868188007131804150, 155280747742461888434157519371],\n",
       " [2356449429711680826791502201802, 57461197583355627181612874030]]"
      ]
     },
     "execution_count": 59,
     "metadata": {},
     "output_type": "execute_result"
    }
   ],
   "source": [
    "random_SL2F_p(GetRandomPrimeSameMagnitude(2**100),200)"
   ]
  },
  {
   "cell_type": "code",
   "execution_count": 126,
   "id": "853ee3ae-0b7e-4f24-9aac-822505a21c07",
   "metadata": {},
   "outputs": [
    {
     "name": "stdout",
     "output_type": "stream",
     "text": [
      "1427 [[279, 247], [547, 740]]\n",
      "[[279, 247], [4352897, 3853640]]\n"
     ]
    },
    {
     "data": {
      "text/plain": [
       "'YYYYYYYYYYYYYYYYYYYYYYYYYYYYYYYYYYYYYYYYYYYYYYYYYYYYYYYYYYYYYYYYYYYYYYYYYYYYYYYYYYYYYYYYYYYYYYYYYYYYYYYYYYYYYYYYYYYYYYYYYYYYYYYYYYYYYYYYYYYYYYYYYYYYYYYYYYYYYYYYYYYYYYYYYYYYYYYYYYYYYYYYYYYYYYYYYYYYYYYYYYYYYYYYYYYYYYYYYYYYYYYYYYYYYYYYYYYYYYYYYYYYYYYYYYYYYYYYYYYYYYYYYYYYYYYYYYYYYYYYYYYYYYYYYYYYYYYYYYYYYYYYYYYYYYYYYYYYYYYYYYYYYYYYYYYYYYYYYYYYYYYYYYYYYYYYYYYYYYYYYYYYYYYYYYYYYYYYYYYYYYYYYYYYYYYYYYYYYYYYYYYYYYYYYYYYYYYYYYYYYYYYYYYYYYYYYYYYYYYYYYYYYYYYYYYYYYYYYYYYYYYYYYYYYYYYYYYYYYYYYYYYYYYYYYYYYYYYYYYYYYYYYYYYYYYYYYYYYYYYYYYYYYYYYYYYYYYYYYYYYYYYYYYYYYYYYYYYYYYYYYYYYYYYYYYYYYYYYYYYYYYYYYYYYYYYYYYYYYYYYYYYYYYYYYYYYYYYYYYYYYYYYYYYYYYYYYYYYYYYYYYYYYYYYYYYYYYYYYYYYYYYYYYYYYYYYYYYYYYYYYYYYYYYYYYYYYYYYYYYYYYYYYYYYYYYYYYYYYYYYYYYYYYYYYYYYYYYYYYYYYYYYYYYYYYYYYYYYYYYYYYYYYYYYYYYYYYYYYYYYYYYYYYYYYYYYYYYYYYYYYYYYYYYYYYYYYYYYYYYYYYYYYYYYYYYYYYYYYYYYYYYYYYYYYYYYYYYYYYYYYYYYYYYYYYYYYYYYYYYYYYYYYYYYYYYYYYYYYYYYYYYYYYYYYYYYYYYYYYYYYYYYYYYYYYYYYYYYYYYYYYYYYYYYYYYYYYYYYYYYYYYYYYYYYYYYYYYYYYYYYYYYYYYYYYYYYYYYYYYYYYYYYYYYYYYYYYYYYYYYYYYYYYYYYYYYYYYYYYYYYYYYYYYYYYYYYYYYYYYYYYYYYYYYYYYYYYYYYYYYYYYYYYYYYYYYYYYYYYYYYYYYYYYYYYYYYYYYYYYYYYYYYYYYYYYYYYYYYYYYYYYYYYYYYYYYYYYYYYYYYYYYYYYYYYYYYYYYYYYYYYYYYYYYYYYYYYYYYYYYYYYYYYYYYYYYYYYYYYYYYYYYYYYYYYYYYYYYYYYYYYYYYYYYYYYYYYYYYYYYYYYYYYYYYYYYYYYYYYYYYYYYYYYYYYYYYYYYYYYYYYYYYYYYYYYYYYYYYYYYYYYYYYYYYYYYYYYYYYYYYYYYYYYYYYYYYYYYYYYYYYYYYYYYYYYYYYYYYYYYYYYYYYYYYYYYYYYYYYYYYYYYYYYYYYYYYYYYYYYYYYYYYYYYYYYYYYYYYYYYYYYYYYYYYYYYYYYYYYYYYYYYYYYYYYYYYYYYYYYYYYYYYYYYYYYYYYYYYYYYYYYYYYYYYYYYYYYYYYYYYYYYYYYYYYYYYYYYYYYYYYYYYYYYYYYYYYYYYYYYYYYYYYYYYYYYYYYYYYYYYYYYYYYYYYYYYYYYYYYYYYYYYYYYYYYYYYYYYYYYYYYYYYYYYYYYYYYYYYYYYYYYYYYYYYYYYYYYYYYYYYYYYYYYYYYYYYYYYYYYYYYYYYYYYYYYYYYYYYYYYYYYYYYYYYYYYYYYYYYYYYYYYYYYYYYYYYYYYYYYYYYYYYYYYYYYYYYYYYYYYYYYYYYYYYYYYYYYYYYYYYYYYYYYYYYYYYYYYYYYYYYYYYYYYYYYYYYYYYYYYYYYYYYYYYYYYYYYYYYYYYYYYYYYYYYYYYYYYYYYYYYYYYYYYYYYYYYYYYYYYYYYYYYYYYYYYYYYYYYYYYYYYYYYYYYYYYYYYYYYYYYYYYYYYYYYYYYYYYYYYYYYYYYYYYYYYYYYYYYYYYYYYYYYYYYYYYYYYYYYYYYYYYYYYYYYYYYYYYYYYYYYYYYYYYYYYYYYYYYYYYYYYYYYYYYYYYYYYYYYYYYYYYYYYYYYYYYYYYYYYYYYYYYYYYYYYYYYYYYYYYYYYYYYYYYYYYYYYYYYYYYYYYYYYYYYYYYYYYYYYYYYYYYYYYYYYYYYYYYYYYYYYYYYYYYYYYYYYYYYYYYYYYYYYYYYYYYYYYYYYYYYYYYYYYYYYYYYYYYYYYYYYYYYYYYYYYYYYYYYYYYYYYYYYYYYYYYYYYYYYYYYYYYYYYYYYYYYYYYYYYYYYYYYYYYYYYYYYYYYYYYYYYYYYYYYYYYYYYYYYYYYYYYYYYYYYYYYYYYYYYYYYYYYYYYYYYYYYYYYYYYYYYYYYYYYYYYYYYYYYYYYYYYYYYYYYYYYYYYYYYYYYYYYYYYYYYYYYYYYYYYYYYYYYYYYYYYYYYYYYYYYYYYYYYYYYYYYYYYYYYYYYYYYYYYYYYYYYYYYYYYYYYYYYYYYYYYYYYYYYYYYYYYYYYYYYYYYYYYYYYYYYYYYYYYYYYYYYYYYYYYYYYYYYYYYYYYYYYYYYYYYYYYYYYYYYYYYYYYYYYYYYYYYYYYYYYYYYYYYYYYYYYYYYYYYYYYYYYYYYYYYYYYYYYYYYYYYYYYYYYYYYYYYYYYYYYYYYYYYYYYYYYYYYYYYYYYYYYYYYYYYYYYYYYYYYYYYYYYYYYYYYYYYYYYYYYYYYYYYYYYYYYYYYYYYYYYYYYYYYYYYYYYYYYYYYYYYYYYYYYYYYYYYYYYYYYYYYYYYYYYYYYYYYYYYYYYYYYYYYYYYYYYYYYYYYYYYYYYYYYYYYYYYYYYYYYYYYYYYYYYYYYYYYYYYYYYYYYYYYYYYYYYYYYYYYYYYYYYYYYYYYYYYYYYYYYYYYYYYYYYYYYYYYYYYYYYYYYYYYYYYYYYYYYYYYYYYYYYYYYYYYYYYYYYYYYYYYYYYYYYYYYYYYYYYYYYYYYYYYYYYYYYYYYYYYYYYYYYYYYYYYYYYYYYYYYYYYYYYYYYYYYYYYYYYYYYYYYYYYYYYYYYYYYYYYYYYYYYYYYYYYYYYYYYYYYYYYYYYYYYYYYYYYYYYYYYYYYYYYYYYYYYYYYYYYYYYYYYYYYYYYYYYYYYYYYYYYYYYYYYYYYYYYYYYYYYYYYYYYYYYYYYYYYYYYYYYYYYYYYYYYYYYYYYYYYYYYYYYYYYYYYYYYYYYYYYYYYYYYYYYYYYYYYYYYYYYYYYYYYYYYYYYYYYYYYYYYYYYYYYYYYYYYYYYYYYYYYYYYYYYYYYYYYYYYYYYYYYYYYYYYYYYYYYYYYYYYYYYYYYYYYYYYYYYYYYYYYYYYYYYYYYYYYYYYYYYYYYYYYYYYYYYYYYYYYYYYYYYYYYYYYYYYYYYYYYYYYYYYYYYYYYYYYYYYYYYYYYYYYYYYYYYYYYYYYYYYYYYYYYYYYYYYYYYYYYYYYYYYYYYYYYYYYYYYYYYYYYYYYYYYYYYYYYYYYYYYYYYYYYYYYYYYYYYYYYYYYYYYYYYYYYYYYYYYYYYYYYYYYYYYYYYYYYYYYYYYYYYYYYYYYYYYYYYYYYYYYYYYYYYYYYYYYYYYYYYYYYYYYYYYYYYYYYYYYYYYYYYYYYYYYYYYYYYYYYYYYYYYYYYYYYYYYYYYYYYYYYYYYYYYYYYYYYYYYYYYYYYYYYYYYYYYYYYYYYYYYYYYYYYYYYYYYYYYYYYYYYYYYYYYYYYYYYYYYYYYYYYYYYYYYYYYYYYYYYYYYYYYYYYYYYYYYYYYYYYYYYYYYYYYYYYYYYYYYYYYYYYYYYYYYYYYYYYYYYYYYYYYYYYYYYYYYYYYYYYYYYYYYYYYYYYYYYYYYYYYYYYYYYYYYYYYYYYYYYYYYYYYYYYYYYYYYYYYYYYYYYYYYYYYYYYYYYYYYYYYYYYYYYYYYYYYYYYYYYYYYYYYYYYYYYYYYYYYYYYYYYYYYYYYYYYYYYYYYYYYYYYYYYYYYYYYYYYYYYYYYYYYYYYYYYYYYYYYYYYYYYYYYYYYYYYYYYYYYYYYYYYYYYYYYYYYYYYYYYYYYYYYYYYYYYYYYYYYYYYYYYYYYYYYYYYYYYYYYYYYYYYYYYYYYYYYYYYYYYYYYYYYYYYYYYYYYYYYYYYYYYYYYYYYYYYYYYYYYYYYYYYYYYYYYYYYYYYYYYYYYYYYYYYYYYYYYYYYYYYYYYYYYYYYYYYYYYYYYYYYYYYYYYYYYYYYYYYYYYYYYYYYYYYYYYYYYYYYYYYYYYYYYYYYYYYYYYYYYYYYYYYYYYYYYYYYYYYYYYYYYYYYYYYYYYYYYYYYYYYYYYYYYYYYYYYYYYYYYYYYYYYYYYYYYYYYYYYYYYYYYYYYYYYYYYYYYYYYYYYYYYYYYYYYYYYYYYYYYYYYYYYYYYYYYYYYYYYYYYYYYYYYYYYYYYYYYYYYYYYYYYYYYYYYYYYYYYYYYYYYYYYYYYYYYYYYYYYYYYYYYYYYYYYYYYYYYYYYYYYYYYYYYYYYYYYYYYYYYYYYYYYYYYYYYYYYYYYYYYYYYYYYYYYYYYYYYYYYYYYYYYYYYYYYYYYYYYYYYYYYYYYYYYYYYYYYYYYYYYYYYYYYYYYYYYYYYYYYYYYYYYYYYYYYYYYYYYYYYYYYYYYYYYYYYYYYYYYYYYYYYYYYYYYYYYYYYYYYYYYYYYYYYYYYYYYYYYYYYYYYYYYYYYYYYYYYYYYYYYYYYYYYYYYYYYYYYYYYYYYYYYYYYYYYYYYYYYYYYYYYYYYYYYYYYYYYYYYYYYYYYYYYYYYYYYYYYYYYYYYYYYYYYYYYYYYYYYYYYYYYYYYYYYYYYYYYYYYYYYYYYYYYYYYYYYYYYYYYYYYYYYYYYYYYYYYYYYYYYYYYYYYYYYYYYYYYYYYYYYYYYYYYYYYYYYYYYYYYYYYYYYYYYYYYYYYYYYYYYYYYYYYYYYYYYYYYYYYYYYYYYYYYYYYYYYYYYYYYYYYYYYYYYYYYYYYYYYYYYYYYYYYYYYYYYYYYYYYYYYYYYYYYYYYYYYYYYYYYYYYYYYYYYYYYYYYYYYYYYYYYYYYYYYYYYYYYYYYYYYYYYYYYYYYYYYYYYYYYYYYYYYYYYYYYYYYYYYYYYYYYYYYYYYYYYYYYYYYYYYYYYYYYYYYYYYYYYYYYYYYYYYYYYYYYYYYYYYYYYYYYYYYYYYYYYYYYYYYYYYYYYYYYYYYYYYYYYYYYYYYYYYYYYYYYYYYYYYYYYYYYYYYYYYYYYYYYYYYYYYYYYYYYYYYYYYYYYYYYYYYYYYYYYYYYYYYYYYYYYYYYYYYYYYYYYYYYYYYYYYYYYYYYYYYYYYYYYYYYYYYYYYYYYYYYYYYYYYYYYYYYYYYYYYYYYYYYYYYYYYYYYYYYYYYYYYYYYYYYYYYYYYYYYYYYYYYYYYYYYYYYYYYYYYYYYYYYYYYYYYYYYYYYYYYYYYYYYYYYYYYYYYYYYYYYYYYYYYYYYYYYYYYYYYYYYYYYYYYYYYYYYYYYYYYYYYYYYYYYYYYYYYYYYYYYYYYYYYYYYYYYYYYYYYYYYYYYYYYYYYYYYYYYYYYYYYYYYYYYYYYYYYYYYYYYYYYYYYYYYYYYYYYYYYYYYYYYYYYYYYYYYYYYYYYYYYYYYYYYYYYYYYYYYYYYYYYYYYYYYYYYYYYYYYYYYYYYYYYYYYYYYYYYYYYYYYYYYYYYYYYYYYYYYYYYYYYYYYYYYYYYYYYYYYYYYYYYYYYYYYYYYYYYYYYYYYYYYYYYYYYYYYYYYYYYYYYYYYYYYYYYYYYYYYYYYYYYYYYYYYYYYYYYYYYYYYYYYYYYYYYYYYYYYYYYYYYYYYYYYYYYYYYYYYYYYYYYYYYYYYYYYYYYYYYYYYYYYYYYYYYYYYYYYYYYYYYYYYYYYYYYYYYYYYYYYYYYYYYYYYYYYYYYYYYYYYYYYYYYYYYYYYYYYYYYYYYYYYYYYYYYYYYYYYYYYYYYYYYYYYYYYYYYYYYYYYYYYYYYYYYYYYYYYYYYYYYYYYYYYYYYYYYYYYYYYYYYYYYYYYYYYYYYYYYYYYYYYYYYYYYYYYYYYYYYYYYYYYYYYYYYYYYYYYYYYYYYYYYYYYYYYYYYYYYYYYYYYYYYYYYYYYYYYYYYYYYYYYYYYYYYYYYYYYYYYYYYYYYYYYYYYYYYYYYYYYYYYYYYYYYYYYYYYYYYYYYYYYYYYYYYYYYYYYYYYYYYYYYYYYYYYYYYYYYYYYYYYYYYYYYYYYYYYYYYYYYYYYYYYYYYYYYYYYYYYYYYYYYYYYYYYYYYYYYYYYYYYYYYYYYYYYYYYYYYYYYYYYYYYYYYYYYYYYYYYYYYYYYYYYYYYYYYYYYYYYYYYYYYYYYYYYYYYYYYYYYYYYYYYYYYYYYYYYYYYYYYYYYYYYYYYYYYYYYYYYYYYYYYYYYYYYYYYYYYYYYYYYYYYYYYYYYYYYYYYYYYYYYYYYYYYYYYYYYYYYYYYYYYYYYYYYYYYYYYYYYYYYYYYYYYYYYYYYYYYYYYYYYYYYYYYYYYYYYYYYYYYYYYYYYYYYYYYYYYYYYYYYYYYYYYYYYYYYYYYYYYYYYYYYYYYYYYYYYYYYYYYYYYYYYYYYYYYYYYYYYYYYYYYYYYYYYYYYYYYYYYYYYYYYYYYYYYYYYYYYYYYYYYYYYYYYYYYYYYYYYYYYYYYYYYYYYYYYYYYYYYYYYYYYYYYYYYYYYYYYYYYYYYYYYYYYYYYYYYYYYYYYYYYYYYYYYYYYYYYYYYYYYYYYYYYYYYYYYYYYYYYYYYYYYYYYYYYYYYYYYYYYYYYYYYYYYYYYYYYYYYYYYYYYYYYYYYYYYYYYYYYYYYYYYYYYYYYYYYYYYYYYYYYYYYYYYYYYYYYYYYYYYYYYYYYYYYYYYYYYYYYYYYYYYYYYYYYYYYYYYYYYYYYYYYYYYYYYYYYYYYYYYYYYYYYYYYYYYYYYYYYYYYYYYYYYYYYYYYYYYYYYYYYYYYYYYYYYYYYYYYYYYYYYYYYYYYYYYYYYYYYYYYYYYYYYYYYYYYYYYYYYYYYYYYYYYYYYYYYYYYYYYYYYYYYYYYYYYYYYYYYYYYYYYYYYYYYYYYYYYYYYYYYYYYYYYYYYYYYYYYYYYYYYYYYYYYYYYYYYYYYYYYYYYYYYYYYYYYYYYYYYYYYYYYYYYYYYYYYYYYYYYYYYYYYYYYYYYYYYYYYYYYYYYYYYYYYYYYYYYYYYYYYYYYYYYYYYYYYYYYYYYYYYYYYYYYYYYYYYYYYYYYYYYYYYYYYYYYYYYYYYYYYYYYYYYYYYYYYYYYYYYYYYYYYYYYYYYYYYYYYYYYYYYYYYYYYYYYYYYYYYYYYYYYYYYYYYYYYYYYYYYYYYYYYYYYYYYYYYYYYYYYYYYYYYYYYYYYYYYYYYYYYYYYYYYYYYYYYYYYYYYYYYYYYYYYYYYYYYYYYYYYYYYYYYYYYYYYYYYYYYYYYYYYYYYYYYYYYYYYYYYYYYYYYYYYYYYYYYYYYYYYYYYYYYYYYYYYYYYYYYYYYYYYYYYYYYYYYYYYYYYYYYYYYYYYYYYYYYYYYYYYYYYYYYYYYYYYYYYYYYYYYYYYYYYYYYYYYYYYYYYYYYYYYYYYYYYYYYYYYYYYYYYYYYYYYYYYYYYYYYYYYYYYYYYYYYYYYYYYYYYYYYYYYYYYYYYYYYYYYYYYYYYYYYYYYYYYYYYYYYYYYYYYYYYYYYYYYYYYYYYYYYYYYYYYYYYYYYYYYYYYYYYYYYYYYYYYYYYYYYYYYYYYYYYYYYYYYYYYYYYYYYYYYYYYYYYYYYYYYYYYYYYYYYYYYYYYYYYYYYYYYYYYYYYYYYYYYYYYYYYYYYYYYYYYYYYYYYYYYYYYYYYYYYYYYYYYYYYYYYYYYYYYYYYYYYYYYYYYYYYYYYYYYYYYYYYYYYYYYYYYYYYYYYYYYYYYYYYYYYYYYYYYYYYYYYYYYYYYYYYYYYYYYYYYYYYYYYYYYYYYYYYYYYYYYYYYYYYYYYYYYYYYYYYYYYYYYYYYYYYYYYYYYYYYYYYYYYYYYYYYYYYYYYYYYYYYYYYYYYYYYYYYYYYYYYYYYYYYYYYYYYYYYYYYYYYYYYYYYYYYYYYYYYYYYYYYYYYYYYYYYYYYYYYYYYYYYYYYYYYYYYYYYYYYYYYYYYYYYYYYYYYYYYYYYYYYYYYYYYYYYYYYYYYYYYYYYYYYYYYYYYYYYYYYYYYYYYYYYYYYYYYYYYYYYYYYYYYYYYYYYYYYYYYYYYYYYYYYYYYYYYYYYYYYYYYYYYYYYYYYYYYYYYYYYYYYYYYYYYYYYYYYYYYYYYYYYYYYYYYYYYYYYYYYYYYYYYYYYYYYYYYYYYYYYYYYYYYYYYYYYYYYYYYYYYYYYYYYYYYYYYYYYYYYYYYYYYYYYYYYYYYYYYYYYYYYYYYYYYYYYYYYYYYYYYYYYYYYYYYYYYYYYYYYYYYYYYYYYYYYYYYYYYYYYYYYYYYYYYYYYYYYYYYYYYYYYYYYYYYYYYYYYYYYYYYYYYYYYYYYYYYYYYYYYYYYYYYYYYYYYYYYYYYYYYYYYYYYYYYYYYYYYYYYYYYYYYYYYYYYYYYYYYYYYYYYYYYYYYYYYYYYYYYYYYYYYYYYYYYYYYYYYYYYYYYYYYYYYYYYYYYYYYYYYYYYYYYYYYYYYYYYYYYYYYYYYYYYYYYYYYYYYYYYYYYYYYYYYYYYYYYYYYYYYYYYYYYYYYYYYYYYYYYYYYYYYYYYYYYYYYYYYYYYYYYYYYYYYYYYYYYYYYYYYYYYYYYYYYYYYYYYYYYYYYYYYYYYYYYYYYYYYYYYYYYYYYYYYYYYYYYYYYYYYYYYYYYYYYYYYYYYYYYYYYYYYYYYYYYYYYYYYYYYYYYYYYYYYYYYYYYYYYYYYYYYYYYYYYYYYYYYYYYYYYYYYYYYYYYYYYYYYYYYYYYYYYYYYYYYYYYYYYYYYYYYYYYYYYYYYYYYYYYYYYYYYYYYYYYYYYYYYYYYYYYYYYYYYYYYYYYYYYYYYYYYYYYYYYYYYYYYYYYYYYYYYYYYYYYYYYYYYYYYYYYYYYYYYYYYYYYYYYYYYYYYYYYYYYYYYYYYYYYYYYYYYYYYYYYYYYYYYYYYYYYYYYYYYYYYYYYYYYYYYYYYYYYYYYYYYYYYYYYYYYYYYYYYYYYYYYYYYYYYYYYYYYYYYYYYYYYYYYYYYYYYYYYYYYYYYYYYYYYYYYYYYYYYYYYYYYYYYYYYYYYYYYYYYYYYYYYYYYYYYYYYYYYYYYYYYYYYYYYYYYYYYYYYYYYYYYYYYYYYYYYYYYYYYYYYYYYYYYYYYYYYYYYYYYYYYYYYYYYYYYYYYYYYYYYYYYYYYYYYYYYYYYYYYYYYYYYYYYYYYYYYYYYYYYYYYYYYYYYYYYYYYYYYYYYYYYYYYYYYYYYYYYYYYYYYYYYYYYYYYYYYYYYYYYYYYYYYYYYYYYYYYYYYYYYYYYYYYYYYYYYYYYYYYYYYYYYYYYYYYYYYYYYYYYYYYYYYYYYYYYYYYYYYYYYYYYYYYYYYYYYYYYYYYYYYYYYYYYYYYYYYYYYYYYYYYYYYYYYYYYYYYYYYYYYYYYYYYYYYYYYYYYYYYYYYYYYYYYYYYYYYYYYYYYYYYYYYYYYYYYYYYYYYYYYYYYYYYYYYYYYYYYYYYYYYYYYYYYYYYYYYYYYYYYYYYYYYYYYYYYYYYYYYYYYYYYYYYYYYYYYYYYYYYYYYYYYYYYYYYYYYYYYYYYYYYYYYYYYYYYYYYYYYYYYYYYYYYYYYYYYYYYYYYYYYYYYYYYYYYYYYYYYYYYYYYYYYYYYYYYYYYYYYYYYYYYYYYYYYYYYYYYYYYYYYYYYYYYYYYYYYYYYYYYYYYYYYYYYYYYYYYYYYYYYYYYYYYYYYYYYYYYYYYYYYYYYYYYYYYYYYYYYYYYYYYYYYYYYYYYYYYYYYYYYYYYYYYYYYYYYYYYYYYYYYYYYYYYYYYYYYYYYYYYYYYYYYYYYYYYYYYYYYYYYYYYYYYYYYYYYYYYYYYYYYYYYYYYYYYYYYYYYYYYYYYYYYYYYYYYYYYYYYYYYYYYYYYYYYYYYYYYYYYYYYYYYYYYYYYYYYYYYYYYYYYYYYYYYYYYYYYYYYYYYYYYYYYYYYYYYYYYYYYYYYYYYYYYYYYYYYYYYYYYYYYYYYYYYYYYYYYYYYYYYYYYYYYYYYYYYYYYYYYYYYYYYYYYYYYYYYYYYYYYYYYYYYYYYYYYYYYYYYYYYYYYYYYYYYYYYYYYYYYYYYYYYYYYYYYYYYYYYYYYYYYYYYYYYYYYYYYYYYYYYYYYYYYYYYYYYYYYYYYYYYYYYYYYYYYYYYYYYYYYYYYYYYYYYYYYYYYYYYYYYYYYYYYYYYYYYYYYYYYYYYYYYYYYYYYYYYYYYYYYYYYYYYYYYYYYYYYYYYYYYYYYYYYYYYYYYYYYYYYYYYYYYYYYYYYYYYYYYYYYYYYYYYYYYYYYYYYYYYYYYYYYYYYYYYYYYYYYYYYYYYYYYYYYYYYYYYYYYYYYYYYYYYYYYYYYYYYYYYYYYYYYYYYYYYYYYYYYYYYYYYYYYYYYYYYYYYYYYYYYYYYYYYYYYYYYYYYYYYYYYYYYYYYYYYYYYYYYYYYYYYYYYYYYYYYYYYYYYYYYYYYYYYYYYYYYYYYYYYYYYYYYYYYYYYYYYYYYYYYYYYYYYYYYYYYYYYYYYYYYYYYYYYYYYYYYYYYYYYYYYYYYYYYYYYYYYYYYYYYYYYYYYYYYYYYYYYYYYYYYYYYYYYYYYYYYYYYYYYYYYYYYYYYYYYYYYYYYYYYYYYYYYYYYYYYYYYYYYYYYYYYYYYYYYYYYYYYYYYYYYYYYYYYYYYYYYYYYYYYYYYYYYYYYYYYYYYYYYYYYYYYYYYYYYYYYYYYYYYYYYYYYYYYYYYYYYYYYYYYYYYYYYYYYYYYYYYYYYYYYYYYYYYYYYYYYYYYYYYYYYYYYYYYYYYYYYYYYYYYYYYYYYYYYYYYYYYYYYYYYYYYYYYYYYYYYYYYYYYYYYYYYYYYYYYYYYYYYYYYYYYYYYYYYYYYYYYYYYYYYYYYYYYYYYYYYYYYYYYYYYYYYYYYYYYYYYYYYYYYYYYYYYYYYYYYYYYYYYYYYYYYYYYYYYYYYYYYYYYYYYYYYYYYYYYYYYYYYYYYYYYYYYYYYYYYYYYYYYYYYYYYYYYYYYYYYYYYYYYYYYYYYYYYYYYYYYYYYYYYYYYYYYYYYYYYYYYYYYYYYYYYYYYYYYYYYYYYYYYYYYYYYYYYYYYYYYYYYYYYYYYYYYYYYYYYYYYYYYYYYYYYYYYYYYYYYYYYYYYYYYYYYYYYYYYYYYYYYYYYYYYYYYYYYYYYYYYYYYYYYYYYYYYYYYYYYYYYYYYYYYYYYYYYYYYYYYYYYYYYYYYYYYYYYYYYYYYYYYYYYYYYYYYYYYYYYYYYYYYYYYYYYYYYYYYYYYYYYYYYYYYYYYYYYYYYYYYYYYYYYYYYYYYYYYYYYYYYYYYYYYYYYYYYYYYYYYYYYYYYYYYYYYYYYYYYYYYYYYYYYYYYYYYYYYYYYYYYYYYYYYYYYYYYYYYYYYYYYYYYYYYYYYYYYYYYYYYYYYYYYYYYYYYYYYYYYYYYYYYYYYYYYYYYYYYYYYYYYYYYYYYYYYYYYYYYYYYYYYYYYYYYYYYYYYYYYYYYYYYYYYYYYYYYYYYYYYYYYYYYYYYYYYYYYYYYYYYYYYYYYYYYYYYYYYYYYYYYYYYYYYYYYYYYYYYYYYYYYYYYYYYYYYYYYYYYYYYYYYYYYYYYYYYYYYYYYYYYYYYYYYYYYYYYYYYYYYYYYYYYYYYYYYYYYYYYYYYYYYYYYYYYYYYYYYYYYYYYYYYYYYYYYYYYYYYYYYYYYYYYYYYYYYYYYYYYYYYYYYYYYYYYYYYYYYYYYYYYYYYYYYYYYYYYYYYYYYYYYYYYYYYYYYYYYYYYYYYYYYYYYYYYYYYYYYYYYYYYYYYYYYYYYYYYYYYYYYYYYYYYYYYYYYYYYYYYYYYYYYYYYYYYYYYYYYYYYYYYYYYYYYYYYYYYYYYYYYYYYYYYYYYYYYYYYYYYYYYYYYYYYYYYYYYYYYYYYYYYYYYYYYYYYYYYYYYYYYYYYYYYYYYYYYYYYYYYYYYYYYYYYYYYYYYYYYYYYYYYYYYYYYYYYYYYYYYYYYYYYYYYYYYYYYYYYYYYYYYYYYYYYYYYYYYYYYYYYYYYYYYYYYYYYYYYYYYYYYYYYYYYYYYYYYYYYYYYYYYYYYYYYYYYYYYYYYYYYYYYYYYYYYYYYYYYYYYYYYYYYYYYYYYYYYYYYYYYYYYYYYYYYYYYYYYYYYYYYYYYYYYYYYYYYYYYYYYYYYYYYYYYYYYYYYYYYYYYYYYYYYYYYYYYYYYYYYYYYYYYYYYYYYYYYYYYYYYYYYYYYYYYYYYYYYYYYYYYYYYYYYYYYYYYYYYYYYYYYYYYYYYYYYYYYYYYYYYYYYYYYYYYYYYYYYYYYYYYYYYYYYYYYYYYYYYYYYYYYYYYYYYYYYYYYYYYYYYYYYYYYYYYYYYYYYYYYYYYYYYYYYYYYYYYYYYYYYYYYYYYYYYYYYYYYYYYYYYYYYYYYYYYYYYYYYYYYYYYYYYYYYYYYYYYYYYYYYYYYYYYYYYYYYYYYYYYYYYYYYYYYYYYYYYYYYYYYYYYYYYYYYYYYYYYYYYYYYYYYYYYYYYYYYYYYYYYYYYYYYYYYYYYYYYYYYYYYYYYYYYYYYYYYYYYYYYYYYYYYYYYYYYYYYYYYYYYYYYYYYYYYYYYYYYYYYYYYYYYYYYYYYYYYYYYYYYYYYYYYYYYYYYYYYYYYYYYYYYYYYYYYYYYYYYYYYYYYYYYYYYYYYYYYYYYYYYYYYYYYYYYYYYYYYYYYYYYYYYYYYYYYYYYYYYYYYYYYYYYYYYYYYYYYYYYYYYYYYYYYYYYYYYYYYYYYYYYYYYYYYYYYYYYYYYYYYYYYYYYYYYYYYYYYYYYYYYYYYYYYYYYYYYYYYYYYYYYYYYYYYYYYYYYYYYYYYYYYYYYYYYYYYYYYYYYYYYYYYYYYYYYYYYYYYYYYYYYYYYYYYYYYYYYYYYYYYYYYYYYYYYYYYYYYYYYYYYYYYYYYYYYYYYYYYYYYYYYYYYYYYYYYYYYYYYYYYYYYYYYYYYYYYYYYYYYYYYYYYYYYYYYYYYYYYYYYYYYYYYYYYYYYYYYYYYYYYYYYYYYYYYYYYYYYYYYYYYYYYYYYYYYYYYYYYYYYYYYYYYYYYYYYYYYYYYYYYYYYYYYYYYYYYYYYYYYYYYYYYYYYYYYYYYYYYYYYYYYYYYYYYYYYYYYYYYYYYYYYYYYYYYYYYYYYYYYYYYYYYYYYYYYYYYYYYYYYYYYYYYYYYYYYYYYYYYYYYYYYYYYYYYYYYYYYYYYYYYYYYYYYYYYYYYYYYYYYYYYYYYYYYYYYYYYYYYYYYYYYYYYYYYYYYYYYYYYYYYYYYYYYYYYYYYYYYYYYYYYYYYYYYYYYYYYYYYYYYYYYYYYYYYYYYYYYYYYYYYYYYYYYYYYYYYYYYYYYYYYYYYYYYYYYYYYYYYYYYYYYYYYYYYYYYYYYYYYYYYYYYYYYYYYYYYYYYYYYYYYYYYYYYYYYYYYYYYYYYYYYYYYYYYYYYYYYYYYYYYYYYYYYYYYYYYYYYYYYYYYYYYYYYYYYYYYYYYYYYYYYYYYYYYYYYYYYYYYYYYYYYYYYYYYYYYYYYYYYYYYYYYYYYYYYYYYYYYYYYYYYYYYYYYYYYYYYYYYYYYYYYYYYYYYYYYYYYYYYYYYYYYYYYYYYYYYYYYYYYYYYYYYYYYYYYYYYYYYYYYYYYYYYYYYYYYYYYYYYYYYYYYYYYYYYYYYYYYYYYYYYYYYYYYYYYYYYYYYYYYYYYYYYYYYYYYYYYYYYYYYYYYYYYYYYYYYYYYYYYYYYYYYYYYYYYYYYYYYYYYYYYYYYYYYYYYYYYYYYYYYYYYYYYYYYYYYYYYYYYYYYYYYYYYYYYYYYYYYYYYYYYYYYYYYYYYYYYYYYYYYYYYYYYYYYYYYYYYYYYYYYYYYYYYYYYYYYYYYYYYYYYYYYYYYYYYYYYYYYYYYYYYYYYYYYYYYYYYYYYYYYYYYYYYYYYYYYYYYYYYYYYYYYYYYYYYYYYYYYYYYYYYYYYYYYYYYYYYYYYYYYYYYYYYYYYYYYYYYYYYYYYYYYYYYYYYYYYYYYYYYYYYYYYYYYYYYYYYYYYYYYYYYYYYYYYYYYYYYYYYYYYYYYYYYYYYYYYYYYYYYYYYYYYYYYYYYYYYYYYYYYYYYYYYYYYYYYYYYYYYYYYYYYYYYYYYYYYYYYYYYYYYYYYYYYYYYYYYYYYYYYYYYYYYYYYYYYYYYYYYYYYYYYYYYYYYYYYYYYYYYYYYYYYYYYYYYYYYYYYYYYYYYYYYYYYYYYYYYYYYYYYYYYYYYYYYYYYYYYYYYYYYYYYYYYYYYYYYYYYYYYYYYYYYYYYYYYYYYYYYYYYYYYYYYYYYYYYYYYYYYYYYYYYYYYYYYYYYYYYYYYYYYYYYYYYYYYYYYYYYYYYYYYYYYYYYYYYYYYYYYYYYYYYYYYYYYYYYYYYYYYYYYYYYYYYYYYYYYYYYYYYYYYYYYYYYYYYYYYYYYYYYYYYYYYYYYYYYYYYYYYYYYYYYYYYYYYYYYYYYYYYYYYYYYYYYYYYYYYYYYYYYYYYYYYYYYYYYYYYYYYYYYYYYYYYYYYYYYYYYYYYYYYYYYYYYYYYYYYYYYYYYYYYYYYYYYYYYYYYYYYYYYYYYYYYYYYYYYYYYYYYYYYYYYYYYYYYYYYYYYYYYYYYYYYYYYYYYYYYYYYYYYYYYYYYYYYYYYYYYYYYYYYYYYYYYYYYYYYYYYYYYYYYYYYYYYYYYYYYYYYYYYYYYYYYYYYYYYYYYYYYYYYYYYYYYYYYYYYYYYYYYYYYYYYYYYYYYYYYYYYYYYYYYYYYYYYYYYYYYYYYYYYYYYYYYYYYYYYYYYYYYYYYYYYYYYYYYYYYYYYYYYYYYYYYYYYYYYYYYYYYYYYYYYYYYYYYYYYYYYYYYYYYYYYYYYYYYYYYYYYYYYYYYYYYYYYYYYYYYYYYYYYYYYYYYYYYYYYYYYYYYYYYYYYYYYYYYYYYYYYYYYYYYYYYYYYYYYYYYYYYYYYYYYYYYYYYYYYYYYYYYYYYYYYYYYYYYYYYYYYYYYYYYYYYYYYYYYYYYYYYYYYYYYYYYYYYYYYYYYYYYYYYYYYYYYYYYYYYYYYYYYYYYYYYYYYYYYYYYYYYYYYYYYYYYYYYYYYYYYYYYYYYYYYYYYYYYYYYYYYYYYYYYYYYYYYYYYYYYYYYYYYYYYYYYYYYYYYYYYYYYYYYYYYYYYYYYYYYYYYYYYYYYYYYYYYYYYYYYYYYYYYYYYYYYYYYYYYYYYYYYYYYYYYYYYYYYYYYYYYYYYYYYYYYYYYYYYYYYYYYYYYYYYYYYYYYYYYYYYYYYYYYYYYYYYYYYYYYYYYYYYYYYYYYYYYYYYYYYYYYYYYYYYYYYYYYYYYYYYYYYYYYYYYYYYYYYYYYYYYYYYYYYYYYYYYYYYYYYYYYYYYYYYYYYYYYYYYYYYYYYYYYYYYYYYYYYYYYYYYYYYYYYYYYYYYYYYYYYYYYXYYYXYXXYXXXXXXXY'"
      ]
     },
     "execution_count": 126,
     "metadata": {},
     "output_type": "execute_result"
    }
   ],
   "source": [
    "p = GetRandomPrimeSameMagnitude(2**10)\n",
    "X = random_SL2F_p(p,100)\n",
    "print(p,X)\n",
    "M = lift(p,X)\n",
    "print(M)\n",
    "decrypt_Euclid(M,[])"
   ]
  },
  {
   "cell_type": "code",
   "execution_count": 124,
   "id": "1bffe9ad-2d2b-445e-aa3d-f288c24d9423",
   "metadata": {},
   "outputs": [
    {
     "data": {
      "text/plain": [
       "[[659, 298], [742306, 335671]]"
      ]
     },
     "execution_count": 124,
     "metadata": {},
     "output_type": "execute_result"
    }
   ],
   "source": [
    "lift(1283,[[659, 298], [732, 808]])"
   ]
  },
  {
   "cell_type": "code",
   "execution_count": null,
   "id": "c6429cfb-d0ff-4c80-b4df-a0618827b725",
   "metadata": {},
   "outputs": [],
   "source": []
  }
 ],
 "metadata": {
  "kernelspec": {
   "display_name": "Python 3 (ipykernel)",
   "language": "python",
   "name": "python3"
  },
  "language_info": {
   "codemirror_mode": {
    "name": "ipython",
    "version": 3
   },
   "file_extension": ".py",
   "mimetype": "text/x-python",
   "name": "python",
   "nbconvert_exporter": "python",
   "pygments_lexer": "ipython3",
   "version": "3.12.5"
  }
 },
 "nbformat": 4,
 "nbformat_minor": 5
}
